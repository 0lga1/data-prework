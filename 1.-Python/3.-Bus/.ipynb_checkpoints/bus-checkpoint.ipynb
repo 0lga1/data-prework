{
 "cells": [
  {
   "cell_type": "markdown",
   "metadata": {},
   "source": [
    "<img src=\"https://bit.ly/2VnXWr2\" width=\"100\" align=\"left\">"
   ]
  },
  {
   "cell_type": "markdown",
   "metadata": {},
   "source": [
    "# Bus\n",
    "\n",
    "This bus has a passenger entry and exit control system to monitor the number of occupants it carries and thus detect when there are too many.\n",
    "\n",
    "At each stop, the entry and exit of passengers is represented by a tuple consisting of two integer numbers.\n",
    "```\n",
    "bus_stop = (in, out)\n",
    "```\n",
    "The succession of stops is represented by a list of these tuples.\n",
    "```\n",
    "stops = [(in1, out1), (in2, out2), (in3, out3), (in4, out4)]\n",
    "```\n",
    "\n",
    "## Tools\n",
    "You don't necessarily need to use all the tools. Maybe you opt to use some of them or completely different ones, they are given to help you shape the exercise. Programming exercises can be solved in many different ways.\n",
    "* Data structures: **lists, tuples**\n",
    "* Loop: **while/for loops**\n",
    "* Functions: **min, max, len**\n",
    "\n",
    "## Tasks"
   ]
  },
  {
   "cell_type": "code",
   "execution_count": 14,
   "metadata": {},
   "outputs": [],
   "source": [
    "# Variables\n",
    "stops = [(10, 0), (4, 1), (3, 5), (3, 4), (5, 1), (1, 5), (5, 8), (4, 6), (2, 3)]"
   ]
  },
  {
   "cell_type": "markdown",
   "metadata": {},
   "source": [
    "#### 1. Calculate the number of stops."
   ]
  },
  {
   "cell_type": "code",
   "execution_count": 15,
   "metadata": {},
   "outputs": [
    {
     "data": {
      "text/plain": [
       "9"
      ]
     },
     "execution_count": 15,
     "metadata": {},
     "output_type": "execute_result"
    }
   ],
   "source": [
    "len(stops)"
   ]
  },
  {
   "cell_type": "markdown",
   "metadata": {},
   "source": [
    "#### 2. Assign to a variable a list whose elements are the number of passengers at each stop (in-out).\n",
    "Each item depends on the previous item in the list + in - out."
   ]
  },
  {
   "cell_type": "code",
   "execution_count": 51,
   "metadata": {},
   "outputs": [
    {
     "name": "stdout",
     "output_type": "stream",
     "text": [
      "[10]\n",
      "[3]\n",
      "[-2]\n",
      "[-1]\n",
      "[4]\n",
      "[-4]\n",
      "[-3]\n",
      "[-2]\n",
      "[-1]\n",
      "[[10], [3], [-2], [-1], [4], [-4], [-3], [-2], [-1]]\n",
      "[10, 10, 3, -2, -1, 4, -4, -3, -2, -1, 10, 3, -2, -1, 4, -4, -3, -2, -1, 10]\n",
      "[10, 10, 3, -2, -1, 4, -4, -3, -2, -1, 10, 3, -2, -1, 4, -4, -3, -2, -1, 10, 3]\n",
      "[10, 10, 3, -2, -1, 4, -4, -3, -2, -1, 10, 3, -2, -1, 4, -4, -3, -2, -1, 10, 3, -2]\n",
      "[10, 10, 3, -2, -1, 4, -4, -3, -2, -1, 10, 3, -2, -1, 4, -4, -3, -2, -1, 10, 3, -2, -1]\n",
      "[10, 10, 3, -2, -1, 4, -4, -3, -2, -1, 10, 3, -2, -1, 4, -4, -3, -2, -1, 10, 3, -2, -1, 4]\n",
      "[10, 10, 3, -2, -1, 4, -4, -3, -2, -1, 10, 3, -2, -1, 4, -4, -3, -2, -1, 10, 3, -2, -1, 4, -4]\n",
      "[10, 10, 3, -2, -1, 4, -4, -3, -2, -1, 10, 3, -2, -1, 4, -4, -3, -2, -1, 10, 3, -2, -1, 4, -4, -3]\n",
      "[10, 10, 3, -2, -1, 4, -4, -3, -2, -1, 10, 3, -2, -1, 4, -4, -3, -2, -1, 10, 3, -2, -1, 4, -4, -3, -2]\n",
      "[10, 10, 3, -2, -1, 4, -4, -3, -2, -1, 10, 3, -2, -1, 4, -4, -3, -2, -1, 10, 3, -2, -1, 4, -4, -3, -2, -1]\n"
     ]
    }
   ],
   "source": [
    "new_list = []\n",
    "passengers=0\n",
    "for i, j in stops:\n",
    "        passengers=[(i-j)]\n",
    "        print(passengers)\n",
    "        new_list.append(passengers)\n",
    "    \n",
    "print(new_list)\n",
    "\n",
    "\n",
    "for i in new_list:\n",
    "    occupancy+=i\n",
    "    print(occupancy)\n",
    "    "
   ]
  },
  {
   "cell_type": "markdown",
   "metadata": {},
   "source": [
    "#### 3. Find the maximum occupation of the bus."
   ]
  },
  {
   "cell_type": "code",
   "execution_count": 17,
   "metadata": {},
   "outputs": [
    {
     "data": {
      "text/plain": [
       "[10, 4, 5, 4, 5, 5, 8, 6, 3]"
      ]
     },
     "execution_count": 17,
     "metadata": {},
     "output_type": "execute_result"
    }
   ],
   "source": [
    "[max(tup) for tup in stops]"
   ]
  },
  {
   "cell_type": "markdown",
   "metadata": {},
   "source": [
    "#### 4. Calculate the average occupation. And the standard deviation."
   ]
  },
  {
   "cell_type": "code",
   "execution_count": 18,
   "metadata": {},
   "outputs": [
    {
     "ename": "TypeError",
     "evalue": "unsupported operand type(s) for +: 'int' and 'tuple'",
     "output_type": "error",
     "traceback": [
      "\u001b[0;31m---------------------------------------------------------------------------\u001b[0m",
      "\u001b[0;31mTypeError\u001b[0m                                 Traceback (most recent call last)",
      "\u001b[0;32m<ipython-input-18-fdd4f2cc6136>\u001b[0m in \u001b[0;36m<module>\u001b[0;34m\u001b[0m\n\u001b[0;32m----> 1\u001b[0;31m \u001b[0msum\u001b[0m\u001b[0;34m(\u001b[0m\u001b[0mstops\u001b[0m\u001b[0;34m)\u001b[0m\u001b[0;34m\u001b[0m\u001b[0;34m\u001b[0m\u001b[0m\n\u001b[0m",
      "\u001b[0;31mTypeError\u001b[0m: unsupported operand type(s) for +: 'int' and 'tuple'"
     ]
    }
   ],
   "source": [
    "sum(stops)"
   ]
  }
 ],
 "metadata": {
  "kernelspec": {
   "display_name": "Python 3",
   "language": "python",
   "name": "python3"
  },
  "language_info": {
   "codemirror_mode": {
    "name": "ipython",
    "version": 3
   },
   "file_extension": ".py",
   "mimetype": "text/x-python",
   "name": "python",
   "nbconvert_exporter": "python",
   "pygments_lexer": "ipython3",
   "version": "3.8.2"
  }
 },
 "nbformat": 4,
 "nbformat_minor": 2
}
